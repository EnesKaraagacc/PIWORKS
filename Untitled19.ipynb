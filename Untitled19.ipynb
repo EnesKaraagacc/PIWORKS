{
 "cells": [
  {
   "cell_type": "code",
   "execution_count": 1,
   "id": "168cbd36-c28e-4824-bb7e-ddcd3a15dcad",
   "metadata": {},
   "outputs": [],
   "source": [
    "import numpy as np\n",
    "import pandas as pd\n",
    "import seaborn as sns\n",
    "import matplotlib.pyplot as plt"
   ]
  },
  {
   "cell_type": "code",
   "execution_count": 2,
   "id": "8b1c1355-9bbe-4037-a62f-a2a87668e1f5",
   "metadata": {},
   "outputs": [],
   "source": [
    "df=pd.read_csv(r\"C:\\Users\\90544\\Downloads\\country_vaccination_stats.csv\")"
   ]
  },
  {
   "cell_type": "code",
   "execution_count": 3,
   "id": "1dedc6f0-9abe-46b0-88d0-1992888789f9",
   "metadata": {},
   "outputs": [
    {
     "data": {
      "text/html": [
       "<div>\n",
       "<style scoped>\n",
       "    .dataframe tbody tr th:only-of-type {\n",
       "        vertical-align: middle;\n",
       "    }\n",
       "\n",
       "    .dataframe tbody tr th {\n",
       "        vertical-align: top;\n",
       "    }\n",
       "\n",
       "    .dataframe thead th {\n",
       "        text-align: right;\n",
       "    }\n",
       "</style>\n",
       "<table border=\"1\" class=\"dataframe\">\n",
       "  <thead>\n",
       "    <tr style=\"text-align: right;\">\n",
       "      <th></th>\n",
       "      <th>country</th>\n",
       "      <th>date</th>\n",
       "      <th>daily_vaccinations</th>\n",
       "      <th>vaccines</th>\n",
       "    </tr>\n",
       "  </thead>\n",
       "  <tbody>\n",
       "    <tr>\n",
       "      <th>0</th>\n",
       "      <td>Argentina</td>\n",
       "      <td>12/29/2020</td>\n",
       "      <td>NaN</td>\n",
       "      <td>Sputnik V</td>\n",
       "    </tr>\n",
       "    <tr>\n",
       "      <th>1</th>\n",
       "      <td>Argentina</td>\n",
       "      <td>12/30/2020</td>\n",
       "      <td>15656.0</td>\n",
       "      <td>Sputnik V</td>\n",
       "    </tr>\n",
       "    <tr>\n",
       "      <th>2</th>\n",
       "      <td>Argentina</td>\n",
       "      <td>12/31/2020</td>\n",
       "      <td>15656.0</td>\n",
       "      <td>Sputnik V</td>\n",
       "    </tr>\n",
       "    <tr>\n",
       "      <th>3</th>\n",
       "      <td>Argentina</td>\n",
       "      <td>1/1/2021</td>\n",
       "      <td>11070.0</td>\n",
       "      <td>Sputnik V</td>\n",
       "    </tr>\n",
       "    <tr>\n",
       "      <th>4</th>\n",
       "      <td>Argentina</td>\n",
       "      <td>1/2/2021</td>\n",
       "      <td>8776.0</td>\n",
       "      <td>Sputnik V</td>\n",
       "    </tr>\n",
       "  </tbody>\n",
       "</table>\n",
       "</div>"
      ],
      "text/plain": [
       "     country        date  daily_vaccinations   vaccines\n",
       "0  Argentina  12/29/2020                 NaN  Sputnik V\n",
       "1  Argentina  12/30/2020             15656.0  Sputnik V\n",
       "2  Argentina  12/31/2020             15656.0  Sputnik V\n",
       "3  Argentina    1/1/2021             11070.0  Sputnik V\n",
       "4  Argentina    1/2/2021              8776.0  Sputnik V"
      ]
     },
     "execution_count": 3,
     "metadata": {},
     "output_type": "execute_result"
    }
   ],
   "source": [
    "df.head()"
   ]
  },
  {
   "cell_type": "markdown",
   "id": "58651440-80e1-4e30-b0bb-88db197c53cc",
   "metadata": {},
   "source": [
    "# QUESTION 4"
   ]
  },
  {
   "cell_type": "code",
   "execution_count": 4,
   "id": "f1504927-d764-4e6d-85a1-197b798b563f",
   "metadata": {},
   "outputs": [],
   "source": [
    "#Group the countries according to their lowest currency.\n",
    "min_daily_vaccinations = df.groupby('country')['daily_vaccinations'].min()"
   ]
  },
  {
   "cell_type": "code",
   "execution_count": 5,
   "id": "c812f727-bc95-4465-86d9-a5338624e450",
   "metadata": {},
   "outputs": [],
   "source": [
    "#Fill the NaN value with minimum daily vaccinations value for each country.\n",
    "for country, min_daily_vaccinations_value in min_daily_vaccinations.items():\n",
    "    df.loc[df['country'] == country, 'daily_vaccinations'] = df.loc[df['country'] == country, 'daily_vaccinations'].fillna(min_daily_vaccinations_value)"
   ]
  },
  {
   "cell_type": "code",
   "execution_count": 6,
   "id": "2c947b3e-9540-4d44-b182-32ec3fc38aeb",
   "metadata": {},
   "outputs": [],
   "source": [
    "#Fill the NaN values with zero which is already check for if it doesn't have any valid vaccination number yet.\n",
    "df['daily_vaccinations'].fillna(0, inplace=True)"
   ]
  },
  {
   "cell_type": "code",
   "execution_count": 7,
   "id": "1cddaad8-ddfd-47eb-bc1a-ef4c07ffbbe1",
   "metadata": {},
   "outputs": [
    {
     "data": {
      "image/png": "[encoded data removed]",
      "text/plain": [
       "<Figure size 640x480 with 1 Axes>"
      ]
     },
     "metadata": {},
     "output_type": "display_data"
    }
   ],
   "source": [
    "# Below we can see that there are no missing values ​​in the \"daily_vaccinations\" column\n",
    "sns.heatmap(df.isna(), cmap=\"viridis\", cbar=False)\n",
    "plt.show()"
   ]
  },
  {
   "cell_type": "code",
   "execution_count": 8,
   "id": "2ea66446-3799-48f7-a127-ce87c7db4367",
   "metadata": {},
   "outputs": [
    {
     "name": "stdout",
     "output_type": "stream",
     "text": [
      "6483.0\n"
     ]
    }
   ],
   "source": [
    "print(df[df['country'] == 'Argentina']['daily_vaccinations'].min())"
   ]
  },
  {
   "cell_type": "code",
   "execution_count": 9,
   "id": "7605b4e1-13be-425d-b32e-736205197327",
   "metadata": {},
   "outputs": [
    {
     "data": {
      "text/html": [
       "<div>\n",
       "<style scoped>\n",
       "    .dataframe tbody tr th:only-of-type {\n",
       "        vertical-align: middle;\n",
       "    }\n",
       "\n",
       "    .dataframe tbody tr th {\n",
       "        vertical-align: top;\n",
       "    }\n",
       "\n",
       "    .dataframe thead th {\n",
       "        text-align: right;\n",
       "    }\n",
       "</style>\n",
       "<table border=\"1\" class=\"dataframe\">\n",
       "  <thead>\n",
       "    <tr style=\"text-align: right;\">\n",
       "      <th></th>\n",
       "      <th>country</th>\n",
       "      <th>date</th>\n",
       "      <th>daily_vaccinations</th>\n",
       "      <th>vaccines</th>\n",
       "    </tr>\n",
       "  </thead>\n",
       "  <tbody>\n",
       "    <tr>\n",
       "      <th>0</th>\n",
       "      <td>Argentina</td>\n",
       "      <td>12/29/2020</td>\n",
       "      <td>6483.0</td>\n",
       "      <td>Sputnik V</td>\n",
       "    </tr>\n",
       "    <tr>\n",
       "      <th>1</th>\n",
       "      <td>Argentina</td>\n",
       "      <td>12/30/2020</td>\n",
       "      <td>15656.0</td>\n",
       "      <td>Sputnik V</td>\n",
       "    </tr>\n",
       "    <tr>\n",
       "      <th>2</th>\n",
       "      <td>Argentina</td>\n",
       "      <td>12/31/2020</td>\n",
       "      <td>15656.0</td>\n",
       "      <td>Sputnik V</td>\n",
       "    </tr>\n",
       "    <tr>\n",
       "      <th>3</th>\n",
       "      <td>Argentina</td>\n",
       "      <td>1/1/2021</td>\n",
       "      <td>11070.0</td>\n",
       "      <td>Sputnik V</td>\n",
       "    </tr>\n",
       "    <tr>\n",
       "      <th>4</th>\n",
       "      <td>Argentina</td>\n",
       "      <td>1/2/2021</td>\n",
       "      <td>8776.0</td>\n",
       "      <td>Sputnik V</td>\n",
       "    </tr>\n",
       "  </tbody>\n",
       "</table>\n",
       "</div>"
      ],
      "text/plain": [
       "     country        date  daily_vaccinations   vaccines\n",
       "0  Argentina  12/29/2020              6483.0  Sputnik V\n",
       "1  Argentina  12/30/2020             15656.0  Sputnik V\n",
       "2  Argentina  12/31/2020             15656.0  Sputnik V\n",
       "3  Argentina    1/1/2021             11070.0  Sputnik V\n",
       "4  Argentina    1/2/2021              8776.0  Sputnik V"
      ]
     },
     "execution_count": 9,
     "metadata": {},
     "output_type": "execute_result"
    }
   ],
   "source": [
    "#Below we can see first row was NaN for daily_vaccinations.We fill that with 6483.0 which is minimum daily_vaccinations value for Argentina.\n",
    "df.head()"
   ]
  },
  {
   "cell_type": "code",
   "execution_count": 10,
   "id": "da5d2d56-577e-4626-90fa-2b80b0838981",
   "metadata": {},
   "outputs": [
    {
     "data": {
      "text/plain": [
       "0"
      ]
     },
     "execution_count": 10,
     "metadata": {},
     "output_type": "execute_result"
    }
   ],
   "source": [
    "#There is not any value for daily_vaccinations.\n",
    "df[\"daily_vaccinations\"].isnull().sum()"
   ]
  },
  {
   "cell_type": "markdown",
   "id": "07aef2b1-423c-4060-a9f8-5e073a82609d",
   "metadata": {},
   "source": [
    "# QUESTION 6"
   ]
  },
  {
   "cell_type": "code",
   "execution_count": 11,
   "id": "78b4b696-f6cd-4d48-a625-0edc2f39fa5e",
   "metadata": {},
   "outputs": [],
   "source": [
    "# Calculating median value for each person's daily_vaccinations values.\n",
    "medians = df.groupby('country')['daily_vaccinations'].median()"
   ]
  },
  {
   "cell_type": "code",
   "execution_count": 12,
   "id": "61f757a6-3806-4869-a12f-98a49e5d5625",
   "metadata": {},
   "outputs": [],
   "source": [
    "# Choosing highest 3 median value.\n",
    "highest_3_median = medians.nlargest(3)"
   ]
  },
  {
   "cell_type": "code",
   "execution_count": 13,
   "id": "3ac94eae-6157-4d2e-973d-e5ad4b7336a6",
   "metadata": {},
   "outputs": [
    {
     "name": "stdout",
     "output_type": "stream",
     "text": [
      "The 3 people with the highest median value are:\n",
      "United States: 378253.0\n",
      "China: 276786.0\n",
      "India: 173922.0\n"
     ]
    }
   ],
   "source": [
    "print(\"The 3 people with the highest median value are:\")\n",
    "for country, median in highest_3_median.items():\n",
    "    print(f\"{country}: {median}\")"
   ]
  },
  {
   "cell_type": "markdown",
   "id": "ab8d9b5d-67d7-4bc5-ba22-d9fb2c4ec471",
   "metadata": {},
   "source": [
    "# QUESTION 7"
   ]
  },
  {
   "cell_type": "code",
   "execution_count": 14,
   "id": "67992d69-ce50-4df7-9776-000618618529",
   "metadata": {},
   "outputs": [
    {
     "name": "stdout",
     "output_type": "stream",
     "text": [
      "The sum of daily_vaccinations value on 1/6/2021 :\n",
      "1485255.0\n"
     ]
    }
   ],
   "source": [
    "print(\"The sum of daily_vaccinations value on 1/6/2021 :\")\n",
    "\n",
    "print(df[df['date'] == '1/6/2021']['daily_vaccinations'].sum())"
   ]
  },
  {
   "cell_type": "markdown",
   "id": "2d67f4f9-126a-44ea-81e2-2ef3f2442fff",
   "metadata": {},
   "source": [
    "# QUESTION 8"
   ]
  },
  {
   "cell_type": "code",
   "execution_count": 15,
   "id": "2bb99341-ab47-47bc-b7c1-3a32eceb543a",
   "metadata": {},
   "outputs": [],
   "source": [
    "import sqlite3\n",
    "\n",
    "# Read the CSV file into a DataFrame\n",
    "df = pd.read_csv(r\"C:\\Users\\90544\\Downloads\\country_vaccination_stats.csv\")\n",
    "\n",
    "# Establish a connection to the SQLite database (if the database doesn't exist, it will be created)\n",
    "conn = sqlite3.connect('database.db')\n",
    "\n",
    "# Write the DataFrame to a SQLite table\n",
    "df.to_sql('daily_vaccinations', conn, if_exists='replace', index=False)\n",
    "\n",
    "# Close the connection\n",
    "conn.close()\n"
   ]
  },
  {
   "cell_type": "code",
   "execution_count": 16,
   "id": "b367d4a5-cf9f-491a-95c3-44ef7560af13",
   "metadata": {},
   "outputs": [],
   "source": [
    "conn = sqlite3.connect('database.db')"
   ]
  },
  {
   "cell_type": "code",
   "execution_count": 17,
   "id": "06fdd562-0af3-4eef-8209-4b29d7682495",
   "metadata": {},
   "outputs": [],
   "source": [
    "cursor = conn.cursor()\n",
    "\n",
    "sql_command = \"\"\"\n",
    "UPDATE daily_vaccinations\n",
    "SET daily_vaccinations = COALESCE((\n",
    "    SELECT CASE \n",
    "               WHEN medyan IS NULL THEN 0\n",
    "               ELSE medyan \n",
    "           END AS filled_value\n",
    "    FROM (\n",
    "        SELECT country, \n",
    "               CASE \n",
    "                   WHEN COUNT(*) % 2 = 1 THEN MAX(daily_vaccinations)\n",
    "                   ELSE AVG(daily_vaccinations)\n",
    "               END AS medyan\n",
    "        FROM daily_vaccinations\n",
    "        WHERE country = daily_vaccinations.country\n",
    "        GROUP BY country\n",
    "    ) AS medyanlar\n",
    "    WHERE medyanlar.country = daily_vaccinations.country\n",
    "), 0)\n",
    "WHERE daily_vaccinations IS NULL;\n",
    "\"\"\"\n",
    "cursor.execute(sql_command)\n",
    "\n",
    "conn.commit()\n",
    "\n",
    "cursor.close()\n",
    "conn.close()\n"
   ]
  },
  {
   "cell_type": "code",
   "execution_count": 18,
   "id": "11aabb7b-d16f-4629-97fe-010cc68a47e5",
   "metadata": {},
   "outputs": [],
   "source": [
    "conn = sqlite3.connect('database.db')\n",
    "\n",
    "df = pd.read_sql_query(\"SELECT * FROM daily_vaccinations\", conn)\n",
    "\n",
    "conn.close()\n",
    "\n",
    "df.to_csv('your_data.csv', index=False)"
   ]
  },
  {
   "cell_type": "code",
   "execution_count": 19,
   "id": "a7b291bb-7f4f-441d-b9fa-3846e0a865de",
   "metadata": {},
   "outputs": [],
   "source": [
    "s=pd.read_csv(\"your_data.csv\")"
   ]
  },
  {
   "cell_type": "code",
   "execution_count": 20,
   "id": "b5fc5bf7-1469-4ff0-b3db-e3e4d2a917d3",
   "metadata": {},
   "outputs": [
    {
     "data": {
      "text/plain": [
       "0"
      ]
     },
     "execution_count": 20,
     "metadata": {},
     "output_type": "execute_result"
    }
   ],
   "source": [
    "#Below we can see it works succesfully.\n",
    "s[\"daily_vaccinations\"].isnull().sum()"
   ]
  }
 ],
 "metadata": {
  "kernelspec": {
   "display_name": "Python 3 (ipykernel)",
   "language": "python",
   "name": "python3"
  },
  "language_info": {
   "codemirror_mode": {
    "name": "ipython",
    "version": 3
   },
   "file_extension": ".py",
   "mimetype": "text/x-python",
   "name": "python",
   "nbconvert_exporter": "python",
   "pygments_lexer": "ipython3",
   "version": "3.11.5"
  }
 },
 "nbformat": 4,
 "nbformat_minor": 5
}
