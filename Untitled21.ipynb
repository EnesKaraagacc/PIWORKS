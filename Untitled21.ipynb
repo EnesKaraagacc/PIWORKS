{
 "cells": [
  {
   "cell_type": "code",
   "execution_count": 1,
   "id": "52bc5ac6-8ce0-4a65-b694-6863588e4671",
   "metadata": {},
   "outputs": [],
   "source": [
    "import pandas as pd\n",
    "import re"
   ]
  },
  {
   "cell_type": "code",
   "execution_count": 2,
   "id": "e9f9d62e-1f80-4e1f-870b-6ef4677fef01",
   "metadata": {},
   "outputs": [],
   "source": [
    "data = {\n",
    "    'Device_Type': ['AXO145', 'TRU151', 'ZOD231', 'YRT326','LWR245'],\n",
    "    'Stats_Access_Link': [\n",
    "        '<url>https://xcd32112.smart_meter.com</url>',\n",
    "        '<url>http://tXh67.dia_meter.com</url>',\n",
    "        '<url>http://yT5495.smart_meter.com</url>',\n",
    "        '<url>http://ret323._TRu.crown.com</url>',\n",
    "        '<url>http://luwr3243.celcius.com</url>'\n",
    "    ]\n",
    "}\n",
    "df = pd.DataFrame(data)"
   ]
  },
  {
   "cell_type": "code",
   "execution_count": 3,
   "id": "7b9b9470-e33d-48df-a440-d7a11b3ceb40",
   "metadata": {},
   "outputs": [],
   "source": [
    "def extract_domain(device_type):\n",
    "    pattern = r'<url>https?://([^/]+)</url>'\n",
    "    regex = re.compile(pattern, re.IGNORECASE)\n",
    "    matches = df[df['Device_Type'] == device_type]['Stats_Access_Link'].apply(lambda x: regex.search(x))\n",
    "    domains = matches.apply(lambda x: x.group(1) if x else None)\n",
    "    return domains"
   ]
  },
  {
   "cell_type": "code",
   "execution_count": 4,
   "id": "6626831f-e65a-4c1f-a2db-f5d91e09f635",
   "metadata": {},
   "outputs": [
    {
     "name": "stdout",
     "output_type": "stream",
     "text": [
      "Domains for device type 'AXO145':\n",
      "0    xcd32112.smart_meter.com\n",
      "Name: Stats_Access_Link, dtype: object\n"
     ]
    }
   ],
   "source": [
    "# Extract domains for device type 'AXO145'. We can try for each device type.\n",
    "domains_axo145 = extract_domain('AXO145')\n",
    "print(\"Domains for device type 'AXO145':\")\n",
    "print(domains_axo145)\n"
   ]
  }
 ],
 "metadata": {
  "kernelspec": {
   "display_name": "Python 3 (ipykernel)",
   "language": "python",
   "name": "python3"
  },
  "language_info": {
   "codemirror_mode": {
    "name": "ipython",
    "version": 3
   },
   "file_extension": ".py",
   "mimetype": "text/x-python",
   "name": "python",
   "nbconvert_exporter": "python",
   "pygments_lexer": "ipython3",
   "version": "3.11.5"
  }
 },
 "nbformat": 4,
 "nbformat_minor": 5
}
